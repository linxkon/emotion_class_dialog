{
 "cells": [
  {
   "cell_type": "code",
   "metadata": {
    "ExecuteTime": {
     "end_time": "2024-07-15T09:07:42.417638Z",
     "start_time": "2024-07-15T09:07:42.346919Z"
    }
   },
   "source": [
    "import pandas as pd\n",
    "from sklearn.model_selection import train_test_split\n",
    "\n",
    "# 读取CSV文件\n",
    "df = pd.read_csv('医疗审核数据集.csv', sep=',', header=None, names=['label', 'sample'])\n",
    "\n",
    "# 交换列的顺序\n",
    "# df = df[['sample', 'label']]\n",
    "\n",
    "# 分割数据集\n",
    "train, test = train_test_split(df, test_size=0.1, random_state=42)\n",
    "train, val = train_test_split(train, test_size=0.1, random_state=42)  # 0.125 of 80% is 10% of the total\n",
    "\n",
    "# 保存为txt文件\n",
    "train.to_csv('train.txt', sep='\\t', index=False, header=False)\n",
    "val.to_csv('dev.txt', sep='\\t', index=False, header=False)\n",
    "test.to_csv('test.txt', sep='\\t', index=False, header=False)\n",
    "\n",
    "print(f\"原始数据大小: {len(df)}\")\n",
    "print(f\"训练集大小: {len(train)}\")\n",
    "print(f\"验证集大小: {len(val)}\")\n",
    "print(f\"测试集大小: {len(test)}\")"
   ],
   "outputs": [
    {
     "name": "stdout",
     "output_type": "stream",
     "text": [
      "原始数据大小: 32966\n",
      "训练集大小: 26702\n",
      "验证集大小: 2967\n",
      "测试集大小: 3297\n"
     ]
    }
   ],
   "execution_count": 9
  },
  {
   "metadata": {
    "ExecuteTime": {
     "end_time": "2024-07-15T09:07:42.451967Z",
     "start_time": "2024-07-15T09:07:42.418647Z"
    }
   },
   "cell_type": "code",
   "source": [
    "df=pd.read_csv('train.txt', sep='\\t', header=None, names=['sample','label'])\n",
    "df['label'].value_counts()"
   ],
   "outputs": [
    {
     "data": {
      "text/plain": [
       "label\n",
       "0    14168\n",
       "1    12534\n",
       "Name: count, dtype: int64"
      ]
     },
     "execution_count": 10,
     "metadata": {},
     "output_type": "execute_result"
    }
   ],
   "execution_count": 10
  },
  {
   "metadata": {
    "ExecuteTime": {
     "end_time": "2024-07-15T09:07:42.463380Z",
     "start_time": "2024-07-15T09:07:42.452973Z"
    }
   },
   "cell_type": "code",
   "source": [
    "df=pd.read_csv('test.txt', sep='\\t', header=None, names=['sample','label'])\n",
    "df['label'].value_counts()"
   ],
   "outputs": [
    {
     "data": {
      "text/plain": [
       "label\n",
       "0    1729\n",
       "1    1568\n",
       "Name: count, dtype: int64"
      ]
     },
     "execution_count": 11,
     "metadata": {},
     "output_type": "execute_result"
    }
   ],
   "execution_count": 11
  },
  {
   "metadata": {
    "ExecuteTime": {
     "end_time": "2024-07-15T09:08:13.068126Z",
     "start_time": "2024-07-15T09:08:13.059193Z"
    }
   },
   "cell_type": "code",
   "source": [
    "df=pd.read_csv('dev.txt', sep='\\t', header=None, names=['sample','label'])\n",
    "df['label'].value_counts()"
   ],
   "outputs": [
    {
     "data": {
      "text/plain": [
       "label\n",
       "0    1581\n",
       "1    1386\n",
       "Name: count, dtype: int64"
      ]
     },
     "execution_count": 12,
     "metadata": {},
     "output_type": "execute_result"
    }
   ],
   "execution_count": 12
  }
 ],
 "metadata": {
  "kernelspec": {
   "display_name": "kl_graph",
   "language": "python",
   "name": "python3"
  },
  "language_info": {
   "codemirror_mode": {
    "name": "ipython",
    "version": 3
   },
   "file_extension": ".py",
   "mimetype": "text/x-python",
   "name": "python",
   "nbconvert_exporter": "python",
   "pygments_lexer": "ipython3",
   "version": "3.11.9"
  }
 },
 "nbformat": 4,
 "nbformat_minor": 2
}
